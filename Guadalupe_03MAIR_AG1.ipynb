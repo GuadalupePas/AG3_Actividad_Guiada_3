{
  "nbformat": 4,
  "nbformat_minor": 0,
  "metadata": {
    "colab": {
      "name": "Guadalupe_03MAIR-AG1.ipynb",
      "provenance": [],
      "collapsed_sections": [],
      "toc_visible": true,
      "authorship_tag": "ABX9TyPPxlyVYWN21+fncdELMjsh",
      "include_colab_link": true
    },
    "kernelspec": {
      "name": "python3",
      "display_name": "Python 3"
    }
  },
  "cells": [
    {
      "cell_type": "markdown",
      "metadata": {
        "id": "view-in-github",
        "colab_type": "text"
      },
      "source": [
        "<a href=\"https://colab.research.google.com/github/GuadalupePas/AG3_Actividad_Guiada_3/blob/main/Guadalupe_03MAIR_AG1.ipynb\" target=\"_parent\"><img src=\"https://colab.research.google.com/assets/colab-badge.svg\" alt=\"Open In Colab\"/></a>"
      ]
    },
    {
      "cell_type": "markdown",
      "metadata": {
        "id": "cxcXCq0HtuvM"
      },
      "source": [
        "# Algoritmos - Actividad Guiada 1\r\n",
        "\r\n",
        "nombre: Guadalupe Pascual Redondo\r\n",
        "\r\n",
        "URL:https://colab.research.google.com/drive/1mSnqXF-cVv_fchSmlHdDKAHYcxiDrAXo?usp=sharing\r\n",
        "\r\n",
        "\r\n",
        "https://github.com/GuadalupePas/AG3_Actividad_Guiada_3/blob/main/Guadalupe_03MAIR_AG1.ipynb\r\n",
        "\r\n"
      ]
    },
    {
      "cell_type": "markdown",
      "metadata": {
        "id": "BWokf9R4CFnj"
      },
      "source": [
        "## Torres de Hanoi (con divide y vencerás)-Recursividad"
      ]
    },
    {
      "cell_type": "code",
      "metadata": {
        "id": "EUa8EX47sUhR",
        "colab": {
          "base_uri": "https://localhost:8080/"
        },
        "outputId": "c9f4529f-7b38-4c4d-f8bc-5a1354275fb0"
      },
      "source": [
        "def torres_Hanoi(N, desde, hasta):\r\n",
        "  if N==1 :\r\n",
        "    print(\"lleva la ficha\" , desde , \"hasta\" ,hasta)\r\n",
        "  else:\r\n",
        "    torres_Hanoi(N-1, desde, 6-desde-hasta)\r\n",
        "    print(\"lleva la ficha\" , desde , \"hasta\" ,hasta)\r\n",
        "    torres_Hanoi(N-1, 6-desde-hasta, hasta)\r\n",
        "\r\n",
        "torres_Hanoi(6 ,1 ,3)"
      ],
      "execution_count": 1,
      "outputs": [
        {
          "output_type": "stream",
          "text": [
            "lleva la ficha 1 hasta 2\n",
            "lleva la ficha 1 hasta 3\n",
            "lleva la ficha 2 hasta 3\n",
            "lleva la ficha 1 hasta 2\n",
            "lleva la ficha 3 hasta 1\n",
            "lleva la ficha 3 hasta 2\n",
            "lleva la ficha 1 hasta 2\n",
            "lleva la ficha 1 hasta 3\n",
            "lleva la ficha 2 hasta 3\n",
            "lleva la ficha 2 hasta 1\n",
            "lleva la ficha 3 hasta 1\n",
            "lleva la ficha 2 hasta 3\n",
            "lleva la ficha 1 hasta 2\n",
            "lleva la ficha 1 hasta 3\n",
            "lleva la ficha 2 hasta 3\n",
            "lleva la ficha 1 hasta 2\n",
            "lleva la ficha 3 hasta 1\n",
            "lleva la ficha 3 hasta 2\n",
            "lleva la ficha 1 hasta 2\n",
            "lleva la ficha 3 hasta 1\n",
            "lleva la ficha 2 hasta 3\n",
            "lleva la ficha 2 hasta 1\n",
            "lleva la ficha 3 hasta 1\n",
            "lleva la ficha 3 hasta 2\n",
            "lleva la ficha 1 hasta 2\n",
            "lleva la ficha 1 hasta 3\n",
            "lleva la ficha 2 hasta 3\n",
            "lleva la ficha 1 hasta 2\n",
            "lleva la ficha 3 hasta 1\n",
            "lleva la ficha 3 hasta 2\n",
            "lleva la ficha 1 hasta 2\n",
            "lleva la ficha 1 hasta 3\n",
            "lleva la ficha 2 hasta 3\n",
            "lleva la ficha 2 hasta 1\n",
            "lleva la ficha 3 hasta 1\n",
            "lleva la ficha 2 hasta 3\n",
            "lleva la ficha 1 hasta 2\n",
            "lleva la ficha 1 hasta 3\n",
            "lleva la ficha 2 hasta 3\n",
            "lleva la ficha 2 hasta 1\n",
            "lleva la ficha 3 hasta 1\n",
            "lleva la ficha 3 hasta 2\n",
            "lleva la ficha 1 hasta 2\n",
            "lleva la ficha 3 hasta 1\n",
            "lleva la ficha 2 hasta 3\n",
            "lleva la ficha 2 hasta 1\n",
            "lleva la ficha 3 hasta 1\n",
            "lleva la ficha 2 hasta 3\n",
            "lleva la ficha 1 hasta 2\n",
            "lleva la ficha 1 hasta 3\n",
            "lleva la ficha 2 hasta 3\n",
            "lleva la ficha 1 hasta 2\n",
            "lleva la ficha 3 hasta 1\n",
            "lleva la ficha 3 hasta 2\n",
            "lleva la ficha 1 hasta 2\n",
            "lleva la ficha 1 hasta 3\n",
            "lleva la ficha 2 hasta 3\n",
            "lleva la ficha 2 hasta 1\n",
            "lleva la ficha 3 hasta 1\n",
            "lleva la ficha 2 hasta 3\n",
            "lleva la ficha 1 hasta 2\n",
            "lleva la ficha 1 hasta 3\n",
            "lleva la ficha 2 hasta 3\n"
          ],
          "name": "stdout"
        }
      ]
    },
    {
      "cell_type": "markdown",
      "metadata": {
        "id": "C6TR2rqYVHcM"
      },
      "source": [
        "## Devolución de cambio por técnica voraz\r\n"
      ]
    },
    {
      "cell_type": "code",
      "metadata": {
        "colab": {
          "base_uri": "https://localhost:8080/"
        },
        "id": "uIDyTxD_VVYk",
        "outputId": "eadc4490-57ff-4366-d533-c93b2517047a"
      },
      "source": [
        "#con las ligeras modificaciones que hemos visto en clase \r\n",
        "def cambio_monedas(N, SM):\r\n",
        " ValorAcumulado=0\r\n",
        " SOLUCION=[0]*len(SM)\r\n",
        " for i,valor in enumerate(SM):\r\n",
        "   monedas=int ((N-ValorAcumulado)/valor)   #similar a : monedas=((N-ValorAcumulado)//valor)\r\n",
        "   SOLUCION[i]=monedas\r\n",
        "   ValorAcumulado=ValorAcumulado+monedas*valor\r\n",
        "   if ValorAcumulado ==N:\r\n",
        "     return SOLUCION\r\n",
        "\r\n",
        "cambio_monedas(4242 , [100, 25, 10 , 5, 1])\r\n"
      ],
      "execution_count": 2,
      "outputs": [
        {
          "output_type": "execute_result",
          "data": {
            "text/plain": [
              "[42, 1, 1, 1, 2]"
            ]
          },
          "metadata": {
            "tags": []
          },
          "execution_count": 2
        }
      ]
    },
    {
      "cell_type": "markdown",
      "metadata": {
        "id": "knifX2DIZH6i"
      },
      "source": [
        "##N-reinas por técnica de vuelta atrás\r\n"
      ]
    },
    {
      "cell_type": "code",
      "metadata": {
        "id": "UdfqJ2br-m2l"
      },
      "source": [
        "def es_prometedora(SOLUCION,etapa):\r\n",
        "\r\n",
        "  for i in range(etapa+1):\r\n",
        "    \r\n",
        "    if SOLUCION.count(SOLUCION[i]) > 1:       \r\n",
        "      return False #No es prometedora\r\n",
        "  \r\n",
        "    #Verifica las diagonales\r\n",
        "    for j in range(i+1, etapa +1 ):\r\n",
        "      if abs(i-j) == abs(SOLUCION[i]-SOLUCION[j]) : \r\n",
        "        return False\r\n",
        "  return True\r\n",
        "\r\n",
        "def escribe(S): \r\n",
        "  n = len(S)\r\n",
        "  for x in range(n):\r\n",
        "    print(\"\")\r\n",
        "    for i in range(n):\r\n",
        "      if solucion[i] == x+1:\r\n",
        "        print(\" X \" , end=\"\")     #Cuando es una Reina\r\n",
        "      else:\r\n",
        "        print(\" - \", end=\"\")      #Cuando NO es una Reina\r\n",
        "\r\n",
        "\r\n",
        "def reinas(N,solucion,etapa): #Tamaño del tablero, 4X4\r\n",
        "  \r\n",
        "  for i in range(1,N+1):\r\n",
        "    \r\n",
        "    solucion[etapa] = i\r\n",
        "    \r\n",
        "   \r\n",
        "    if es_prometedora(solucion,etapa):\r\n",
        "      if etapa == N-1 :\r\n",
        "        print(\"\\n\\nLa solución es:\")\r\n",
        "        print(solucion)\r\n",
        "        escribe(solucion)\r\n",
        "        \r\n",
        "      else:\r\n",
        "        reinas(N,solucion,etapa+1)\r\n",
        "    else:\r\n",
        "      None\r\n",
        "    solucion[etapa] = 0"
      ],
      "execution_count": 3,
      "outputs": []
    },
    {
      "cell_type": "code",
      "metadata": {
        "colab": {
          "base_uri": "https://localhost:8080/"
        },
        "id": "AWFa9hgcqm5x",
        "outputId": "15d362a5-e836-445d-d726-695639bf03da"
      },
      "source": [
        "N=4\r\n",
        "solucion = [0 for i in range(N) ]\r\n",
        "reinas(N,solucion,0)"
      ],
      "execution_count": 5,
      "outputs": [
        {
          "output_type": "stream",
          "text": [
            "\n",
            "\n",
            "La solución es:\n",
            "[2, 4, 1, 3]\n",
            "\n",
            " -  -  X  - \n",
            " X  -  -  - \n",
            " -  -  -  X \n",
            " -  X  -  - \n",
            "\n",
            "La solución es:\n",
            "[3, 1, 4, 2]\n",
            "\n",
            " -  X  -  - \n",
            " -  -  -  X \n",
            " X  -  -  - \n",
            " -  -  X  - "
          ],
          "name": "stdout"
        }
      ]
    }
  ]
}